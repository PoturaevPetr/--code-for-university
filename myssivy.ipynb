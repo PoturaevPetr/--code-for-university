{
 "cells": [
  {
   "cell_type": "code",
   "execution_count": null,
   "metadata": {},
   "outputs": [],
   "source": [
    "#спектроскопия\n",
    "import scipy.signal as scs\n",
    "import pandas as pd\n",
    "import matplotlib.pyplot as plt\n",
    "%matplotlib inline\n",
    "m=pd.read_csv(\"DAD2.csv\", header=None).values  #читаем файл,выводим матрицу\n",
    "print(m.shape)\n",
    "l=m[0,1:]    #срез первой строки матрицы\n",
    "t=m[1:,0]    # срез первого столбца матрицы\n",
    "m=m[1:,1:]   #убираем первую строку и столбец, получаем итоговую матрицу\n",
    "m=m[:,l>=400]   # переходим к видимой области спектра\n",
    "l=l[l>=400]\n",
    "print(m)\n",
    "plt.grid()\n",
    "plt.imshow(m.T, aspect=10)   # визулизация матрицы\n",
    "plt.colorbar()"
   ]
  },
  {
   "cell_type": "code",
   "execution_count": null,
   "metadata": {},
   "outputs": [],
   "source": [
    "plt.plot(t,m[:,100])  # строим хромотограмму\n",
    "plt.grid()\n",
    "plt.xlabel(\"Время\")  #подписываем оси\n",
    "plt.ylabel(\"Сигнал\")\n",
    "#scs.argrelmax(m[:,1], order=100)\n",
    "t[scs.argrelmax(m[:,90], order=100)] #определяем время выхода\n"
   ]
  },
  {
   "cell_type": "code",
   "execution_count": null,
   "metadata": {},
   "outputs": [],
   "source": [
    "a=[1121, 1388, 1787, 2669]                            #здесь определяем максимумы поглощения соединений\n",
    "for i in a:                                           #\n",
    "    plt.plot(l, m[i,:], label=r'$t_R=%2.2f$'%t[i])    #\n",
    "    li=scs.argrelmax(m[i,:], order=100)[0][0]         #\n",
    "    y=m[i,li]                                         #\n",
    "    x=l[li]                                           #\n",
    "    plt.text(x, y, '%3.0f'%x, ha='center')            #\n",
    "plt.grid()                                            #\n",
    "plt.legend()                                          #\n",
    "plt.xlabel(r\"$\\lambda$, нм\")                          #\n",
    "plt.ylabel(r\"$A$\")                                    #"
   ]
  }
 ],
 "metadata": {
  "kernelspec": {
   "display_name": "Python 3",
   "language": "python",
   "name": "python3"
  },
  "language_info": {
   "codemirror_mode": {
    "name": "ipython",
    "version": 3
   },
   "file_extension": ".py",
   "mimetype": "text/x-python",
   "name": "python",
   "nbconvert_exporter": "python",
   "pygments_lexer": "ipython3",
   "version": "3.7.6"
  }
 },
 "nbformat": 4,
 "nbformat_minor": 2
}
